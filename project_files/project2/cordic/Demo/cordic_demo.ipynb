{
 "cells": [
  {
   "cell_type": "code",
   "execution_count": 5,
   "id": "e659434c",
   "metadata": {},
   "outputs": [],
   "source": [
    "from pynq import Overlay\n",
    "from pynq import MMIO\n",
    "\n",
    "import math\n",
    "\n",
    "\n",
    "ol = Overlay(\"./cordic_wrapper.bit\") # designate a bitstream to be flashed to the FPGA\n",
    "ol.download() # flash the FPGA\n",
    "\n",
    "mul_ip = MMIO(0x40000000, 0x10000) # (IP_BASE_ADDRESS, ADDRESS_RANGE), told to us in Vivado"
   ]
  },
  {
   "cell_type": "code",
   "execution_count": 6,
   "id": "42ef3e39",
   "metadata": {},
   "outputs": [],
   "source": [
    "def float_to_fixed_point_int(value, total_bits=16, integer_bits=3):\n",
    "    \"\"\"\n",
    "    Convert a floating-point number to a fixed-point integer.\n",
    "    Uses two's complement for negative values.\n",
    "    \"\"\"\n",
    "    fractional_bits = total_bits - integer_bits\n",
    "    scaled_value = int(round(value * (1 << fractional_bits)))\n",
    "\n",
    "    if scaled_value < 0:\n",
    "        scaled_value = (1 << total_bits) + scaled_value\n",
    "\n",
    "    return scaled_value & ((1 << total_bits) - 1)\n",
    "\n",
    "\n",
    "def fixed_point_int_to_float(fixed_val, total_bits=16, integer_bits=3):\n",
    "    \"\"\"\n",
    "    Convert a fixed-point integer back to a floating-point number.\n",
    "    Assumes two's complement representation.\n",
    "    \"\"\"\n",
    "    fractional_bits = total_bits - integer_bits\n",
    "\n",
    "    if fixed_val >= (1 << (total_bits - 1)):\n",
    "        fixed_val -= (1 << total_bits)\n",
    "\n",
    "    return fixed_val / (1 << fractional_bits)"
   ]
  },
  {
   "cell_type": "code",
   "execution_count": 7,
   "id": "05a92946",
   "metadata": {},
   "outputs": [],
   "source": [
    "def cart2pol(x, y):\n",
    "    if x > 1 or x < -1 or y > 1 or y < -1:\n",
    "        print(\"Wrong input for x or y\")\n",
    "    \n",
    "    fp_x = float_to_fixed_point_int(x)\n",
    "    fp_y = float_to_fixed_point_int(y)\n",
    "    \n",
    "    mul_ip.write(0x10, fp_x)\n",
    "    mul_ip.write(0x18, fp_y)\n",
    "    print(\"input x:\", mul_ip.read(0x10)) # confirm that our value was written correctly to the fabric\n",
    "    print(\"input y:\", mul_ip.read(0x18)) # confirm that our value was written correctly to the fabric\n",
    "    \n",
    "    mul_ip.write(0x00, 1) # set ap_start to 1 which initiates the process we wrote to the fabric\n",
    "    \n",
    "    fp_r = mul_ip.read(0x20)\n",
    "    fp_theta = mul_ip.read(0x30) \n",
    "    \n",
    "    r     = fixed_point_int_to_float(fp_r)\n",
    "    theta = fixed_point_int_to_float(fp_theta)\n",
    "        \n",
    "    golden_r = math.sqrt(x**2 + y**2)\n",
    "    golden_theta = math.atan2(y, x)  # Returns angle in radians\n",
    "    \n",
    "    print(\"golden_r     = {},\\t calculated r     = {}\".format(golden_r, r))\n",
    "    print(\"golden_theta = {},\\t calculated theta = {}\".format(golden_theta, theta))\n",
    "\n",
    "    \n",
    "\n"
   ]
  },
  {
   "cell_type": "code",
   "execution_count": 8,
   "id": "3c079913",
   "metadata": {},
   "outputs": [
    {
     "name": "stdout",
     "output_type": "stream",
     "text": [
      "input x: 6674\n",
      "input y: 1040\n",
      "golden_r     = 0.8245239232429827,\t calculated r     = 0.824951171875\n",
      "golden_theta = 0.15452117380563432,\t calculated theta = 0.1536865234375\n",
      "input x: 5180\n",
      "input y: 63255\n",
      "golden_r     = 0.6909164493627287,\t calculated r     = 0.69140625\n",
      "golden_theta = -0.4148884123756094,\t calculated theta = -0.415771484375\n",
      "input x: 61056\n",
      "input y: 57692\n",
      "golden_r     = 1.1026812141321716,\t calculated r     = 1.1031494140625\n",
      "golden_theta = -2.089751217098013,\t calculated theta = -2.089599609375\n",
      "input x: 61560\n",
      "input y: 5737\n",
      "golden_r     = 0.8520758475628798,\t calculated r     = 0.8526611328125\n",
      "golden_theta = 2.176897679895153,\t calculated theta = 2.1763916015625\n"
     ]
    }
   ],
   "source": [
    "cart2pol(0.8147, 0.1269)\n",
    "cart2pol(0.6323, -0.2785)\n",
    "cart2pol(-0.5469, -0.9575)\n",
    "cart2pol(-0.4854, 0.7003)"
   ]
  },
  {
   "cell_type": "code",
   "execution_count": null,
   "id": "3e05a124",
   "metadata": {},
   "outputs": [],
   "source": []
  },
  {
   "cell_type": "code",
   "execution_count": null,
   "id": "adc8ea3b",
   "metadata": {},
   "outputs": [],
   "source": []
  }
 ],
 "metadata": {
  "kernelspec": {
   "display_name": "Python 3 (ipykernel)",
   "language": "python",
   "name": "python3"
  },
  "language_info": {
   "codemirror_mode": {
    "name": "ipython",
    "version": 3
   },
   "file_extension": ".py",
   "mimetype": "text/x-python",
   "name": "python",
   "nbconvert_exporter": "python",
   "pygments_lexer": "ipython3",
   "version": "3.10.4"
  }
 },
 "nbformat": 4,
 "nbformat_minor": 5
}
